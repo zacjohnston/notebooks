{
 "cells": [
  {
   "cell_type": "markdown",
   "metadata": {},
   "source": [
    "# Setup"
   ]
  },
  {
   "cell_type": "code",
   "execution_count": null,
   "metadata": {},
   "outputs": [],
   "source": [
    "import os\n",
    "import numpy as np\n",
    "import pandas as pd\n",
    "import matplotlib.pyplot as plt\n",
    "import matplotlib\n",
    "\n",
    "msun = 1.988e33\n",
    "\n",
    "path = '/Users/zac/projects/codes/BANG/run_ccsn1dMLTnoHyb/'\n",
    "dat_filename = 'stir2_tutorial_s10.0_alpha1.25.dat'\n",
    "dat_filepath = os.path.join(path, dat_filename)\n",
    "\n",
    "def plot_settings(axis_fontsize=18, tick_fontsize=16, legend_fontsize=16, legend_loc='best', usetex=True):\n",
    "    matplotlib.rc('xtick', labelsize=tick_fontsize)\n",
    "    matplotlib.rc('ytick', labelsize=tick_fontsize)\n",
    "    matplotlib.rc('axes', titlesize=axis_fontsize, labelsize=axis_fontsize)\n",
    "    matplotlib.rc('legend', fontsize=legend_fontsize, loc=legend_loc, title_fontsize=legend_fontsize)\n",
    "    matplotlib.rc('text', usetex=usetex)\n",
    "    matplotlib.rc('font', family='serif')\n",
    "    \n",
    "    \n",
    "def plot(data, var_i, log_y=True, y_label=None, y_factor=1, xlims=None, ylims=None):\n",
    "    fig, ax = plt.subplots()\n",
    "    if xlims is not None:\n",
    "        ax.set_xlim(xlims)\n",
    "    if ylims is not None:\n",
    "        ax.set_ylim(ylims)\n",
    "    ax.plot(data[0], data[var_i]/y_factor)\n",
    "    if log_y:\n",
    "        ax.set_yscale('log')\n",
    "\n",
    "    ax.set_ylabel(y_label)\n",
    "    ax.set_xlabel('Time (s)')\n",
    "    plt.show()\n",
    "    return fig"
   ]
  },
  {
   "cell_type": "markdown",
   "metadata": {},
   "source": [
    "### Load Data"
   ]
  },
  {
   "cell_type": "code",
   "execution_count": null,
   "metadata": {},
   "outputs": [],
   "source": [
    "mdot_i = 13\n",
    "shock_i = 14\n",
    "ns_mass_i = 20\n",
    "ns_radius_i = 28\n",
    "\n",
    "data = pd.read_csv(dat_filepath, header=None, skiprows=1, delim_whitespace=True, low_memory=False)"
   ]
  },
  {
   "cell_type": "markdown",
   "metadata": {},
   "source": [
    "# Plotting"
   ]
  },
  {
   "cell_type": "markdown",
   "metadata": {},
   "source": [
    "## Shock Radius"
   ]
  },
  {
   "cell_type": "code",
   "execution_count": null,
   "metadata": {},
   "outputs": [],
   "source": [
    "plot_settings(axis_fontsize=16, tick_fontsize=14, usetex=False)"
   ]
  },
  {
   "cell_type": "code",
   "execution_count": null,
   "metadata": {},
   "outputs": [],
   "source": [
    "fig = plot(data, var_i=shock_i, log_y=True, y_label='Shock Radius (km)', y_factor=1e5, xlims=[0.1, 1.3], ylims=[50,2e4])\n"
   ]
  },
  {
   "cell_type": "code",
   "execution_count": null,
   "metadata": {},
   "outputs": [],
   "source": [
    "fig.savefig('stir_test1.png')"
   ]
  },
  {
   "cell_type": "markdown",
   "metadata": {},
   "source": [
    "## Accretion Rate"
   ]
  },
  {
   "cell_type": "code",
   "execution_count": null,
   "metadata": {},
   "outputs": [],
   "source": [
    "plot(data, var_i=mdot_i, log_y=False, y_label='Accretion Rate (Msun s$^{-1}$)', y_factor=msun)"
   ]
  },
  {
   "cell_type": "markdown",
   "metadata": {},
   "source": [
    "## NS Mass"
   ]
  },
  {
   "cell_type": "code",
   "execution_count": null,
   "metadata": {},
   "outputs": [],
   "source": [
    "plot(data, var_i=ns_mass_i, log_y=False, y_label='NS Mass (Msun)', y_factor=msun)"
   ]
  },
  {
   "cell_type": "markdown",
   "metadata": {},
   "source": [
    "## NS Radius"
   ]
  },
  {
   "cell_type": "code",
   "execution_count": null,
   "metadata": {},
   "outputs": [],
   "source": [
    "plot(data, var_i=ns_radius_i, log_y=False, y_label='NS Radius (km)', y_factor=1e5)"
   ]
  }
 ],
 "metadata": {
  "kernelspec": {
   "display_name": "Python 3",
   "language": "python",
   "name": "python3"
  },
  "language_info": {
   "codemirror_mode": {
    "name": "ipython",
    "version": 3
   },
   "file_extension": ".py",
   "mimetype": "text/x-python",
   "name": "python",
   "nbconvert_exporter": "python",
   "pygments_lexer": "ipython3",
   "version": "3.7.3"
  }
 },
 "nbformat": 4,
 "nbformat_minor": 2
}
