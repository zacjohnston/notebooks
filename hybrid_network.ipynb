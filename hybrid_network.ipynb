{
 "cells": [
  {
   "cell_type": "markdown",
   "metadata": {},
   "source": [
    "# Setup"
   ]
  },
  {
   "cell_type": "code",
   "execution_count": null,
   "metadata": {},
   "outputs": [],
   "source": [
    "import numpy as np\n",
    "import matplotlib.pyplot as plt\n",
    "\n",
    "# flashbang\n",
    "from flashbang import flashbang\n",
    "\n",
    "path = \"/Users/zac/projects/codes/BANG/\"\n",
    "\n"
   ]
  },
  {
   "cell_type": "code",
   "execution_count": null,
   "metadata": {},
   "outputs": [],
   "source": [
    "model_list = [\n",
    "#              'helm_noHybrid_noNet',\n",
    "#              'helm_hybrid_noNet',\n",
    "             'helm_hybrid_net',             \n",
    "             'helm_hybrid_net3',    \n",
    "             ]\n",
    "\n",
    "labels = {'helm_hybrid_net': 'Hyrbid, Net',\n",
    "         'helm_hybrid_noNet': 'Hybrid',\n",
    "         'helm_noHybrid_noNet': 'Baseline',\n",
    "         }"
   ]
  },
  {
   "cell_type": "markdown",
   "metadata": {},
   "source": [
    "# Load models"
   ]
  },
  {
   "cell_type": "code",
   "execution_count": null,
   "metadata": {},
   "outputs": [],
   "source": [
    "models = dict.fromkeys(model_list)\n",
    "chk_i = [0, 10, 50]\n",
    "\n",
    "for model in model_list:    \n",
    "    models[model] = flashbang.Simulation(basename='run', model=model, runs_path=path, verbose=False)\n",
    "    \n",
    "    for i in chk_i:\n",
    "        models[model].load_profile(i, reload=True)"
   ]
  },
  {
   "cell_type": "markdown",
   "metadata": {},
   "source": [
    "# Plot"
   ]
  },
  {
   "cell_type": "code",
   "execution_count": null,
   "metadata": {},
   "outputs": [],
   "source": [
    "y_scales = {'entr': 'linear',\n",
    "           'ye  ': 'linear',\n",
    "           'abar': 'linear'}\n",
    "dt = 0.001\n",
    "trans_dens = 8e7\n",
    "trans_low = 2e7\n",
    "\n",
    "def plot_profiles(chk, fontsize=16, xlims=[1e9,1e0],\n",
    "                  var_list = ['temp', 'abar', 'ye  ', 'entr']):\n",
    "    \"\"\"Plot profiles \"\"\"\n",
    "    fig, ax = plt.subplots(2, 2, figsize=(14,14))\n",
    "\n",
    "    for i, key in enumerate(var_list):\n",
    "            row = int(np.floor(i / 2))\n",
    "            col = i % 2\n",
    "            axis = ax[row, col]\n",
    "\n",
    "            axis.set_xlim(xlims)\n",
    "            axis.set_yscale(y_scales.get(key, 'log'))\n",
    "            axis.set_xscale('log')\n",
    "            axis.set_ylabel(key, fontsize=fontsize)\n",
    "            axis.set_xlabel('density', fontsize=fontsize)                       \n",
    "            \n",
    "#             axis.vlines(trans_dens, 1e-3, 1e20, ls='-', color='black')\n",
    "#             axis.vlines(trans_low, 1e-3, 1e20, ls='--', color='black')\n",
    "            \n",
    "            for name, model in models.items():\n",
    "                profile = model.profiles[chk]\n",
    "                axis.plot(profile['dens'], profile[key], label=labels.get(name, name))\n",
    "\n",
    "    ax[0, 0].legend(loc='lower left', fontsize=fontsize)\n",
    "    ax[0, 0].set_title(f't = {chk * dt:.3f} s', fontsize=fontsize)"
   ]
  },
  {
   "cell_type": "code",
   "execution_count": null,
   "metadata": {},
   "outputs": [],
   "source": [
    "plot_profiles(chk=0)"
   ]
  },
  {
   "cell_type": "code",
   "execution_count": null,
   "metadata": {},
   "outputs": [],
   "source": [
    "plot_profiles(chk=10)"
   ]
  },
  {
   "cell_type": "code",
   "execution_count": null,
   "metadata": {},
   "outputs": [],
   "source": [
    "plot_profiles(chk=50)"
   ]
  },
  {
   "cell_type": "code",
   "execution_count": null,
   "metadata": {},
   "outputs": [],
   "source": []
  }
 ],
 "metadata": {
  "kernelspec": {
   "display_name": "Python 3",
   "language": "python",
   "name": "python3"
  },
  "language_info": {
   "codemirror_mode": {
    "name": "ipython",
    "version": 3
   },
   "file_extension": ".py",
   "mimetype": "text/x-python",
   "name": "python",
   "nbconvert_exporter": "python",
   "pygments_lexer": "ipython3",
   "version": "3.7.4"
  }
 },
 "nbformat": 4,
 "nbformat_minor": 2
}
