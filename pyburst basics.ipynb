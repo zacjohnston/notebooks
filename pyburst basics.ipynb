{
 "cells": [
  {
   "cell_type": "code",
   "execution_count": null,
   "metadata": {},
   "outputs": [],
   "source": [
    "from pyburst import grids\n",
    "from pyburst.burst_analyser import burst_analyser"
   ]
  },
  {
   "cell_type": "markdown",
   "metadata": {},
   "source": [
    "# Setting up a model grid"
   ]
  },
  {
   "cell_type": "markdown",
   "metadata": {},
   "source": [
    "### grids.create_batch"
   ]
  },
  {
   "cell_type": "markdown",
   "metadata": {},
   "source": [
    "The module I've used to set up kepler models is `pyburst.grids.create_batch`.\n",
    "\n",
    "This module is **NOT** pretty. \n",
    "It has accumulated years of patchwork/hacks and I've always wanted to tear it down and rebuild it.\n",
    "It unfortunately has lots of assumptions built in, so use with caution.\n",
    "\n"
   ]
  },
  {
   "cell_type": "markdown",
   "metadata": {},
   "source": [
    "The basic input here:\n",
    "- `batch`, `source` : the model I was recreating\n",
    "\n",
    "- `params`: A dictionary of lists which specifies the grid points in parameter space. These are all length-one because I only wanted to generate a single model, but in general it will enumerate over all combinations of the values provided to produce a batch of multiple models.\n",
    "\n",
    "- `dv`: a dictionary specifying the spacing between grid points, this is empty here because I'm only making a single model. It mainly facilitates creating equally-spaced grids, so if we had `params = {'x': [0.0, 0.1]}` and `dv = {'x': 0.025`, the routine would create 5 `x` grid points: `[0.0, 0.025, 0.05, 0.025, 0.10]`. You can specifiy arbitrarily-spaced points by parsing the value `dv = {'x': -1}` and it will use all of the points listed in params, e.g., `params = {'x': [0.0, 0.1, 0.5, 1.0]}`.\n",
    "\n",
    "- `nbursts`: the desired number of bursts in each model. This is used if `auto_t_end = True`, where it will try and predict the appropriate simulation time from existing models. You can just explicitly provide the end time with `t_end`."
   ]
  },
  {
   "cell_type": "code",
   "execution_count": null,
   "metadata": {
    "scrolled": true
   },
   "outputs": [],
   "source": [
    "grids.grid_setup.create_batch(batch=231, source='he2', \n",
    "                              params={'accrate':[0.375], \n",
    "                                      'qb': [0.05], \n",
    "                                      'x': [0.0], \n",
    "                                      'z': [0.015], \n",
    "                                      'mass': [1.4], \n",
    "                                      'qnuc': [5.0]}, \n",
    "                              dv={}, nbursts=60)"
   ]
  },
  {
   "cell_type": "markdown",
   "metadata": {},
   "source": [
    "# Analysing a model"
   ]
  },
  {
   "cell_type": "markdown",
   "metadata": {},
   "source": [
    "### burst_analyser.burst_analyser.BurstRun"
   ]
  },
  {
   "cell_type": "markdown",
   "metadata": {},
   "source": [
    "The main way to analyse individual models is with `pyburst.burst_analyser.burst_analyser` "
   ]
  },
  {
   "cell_type": "code",
   "execution_count": null,
   "metadata": {},
   "outputs": [],
   "source": [
    "model = burst_analyser.burst_analyser.BurstRun(run=1, batch=1, source='he2')"
   ]
  },
  {
   "cell_type": "markdown",
   "metadata": {},
   "source": [
    "# Exploring a grid of models"
   ]
  },
  {
   "cell_type": "markdown",
   "metadata": {},
   "source": [
    "I'll add some info to help you explore my existing grids. Generally this is done using `pyburst.grids.grid_analyser`, but again it's probably a bit impenetrable."
   ]
  },
  {
   "cell_type": "code",
   "execution_count": null,
   "metadata": {},
   "outputs": [],
   "source": [
    "kgrid = grids.grid_analyser.Kgrid('he2')"
   ]
  },
  {
   "cell_type": "code",
   "execution_count": null,
   "metadata": {},
   "outputs": [],
   "source": []
  }
 ],
 "metadata": {
  "kernelspec": {
   "display_name": "Python 3",
   "language": "python",
   "name": "python3"
  },
  "language_info": {
   "codemirror_mode": {
    "name": "ipython",
    "version": 3
   },
   "file_extension": ".py",
   "mimetype": "text/x-python",
   "name": "python",
   "nbconvert_exporter": "python",
   "pygments_lexer": "ipython3",
   "version": "3.7.4"
  }
 },
 "nbformat": 4,
 "nbformat_minor": 2
}
